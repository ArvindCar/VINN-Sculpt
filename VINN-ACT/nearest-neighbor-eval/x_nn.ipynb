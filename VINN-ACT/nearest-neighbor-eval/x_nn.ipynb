{
 "cells": [
  {
   "cell_type": "code",
   "execution_count": 1,
   "metadata": {},
   "outputs": [],
   "source": [
    "import torch\n",
    "\n",
    "import sys\n",
    "import random\n",
    "from tqdm import tqdm\n",
    "import matplotlib.pyplot as plt"
   ]
  },
  {
   "cell_type": "code",
   "execution_count": 51,
   "metadata": {},
   "outputs": [],
   "source": [
    "def dist_metric(x,y):\n",
    "    return(torch.norm(x-y).item())\n",
    "\n",
    "def calculate_action(dist_list,k):\n",
    "    action = torch.tensor([0.0,0.0,0.0])\n",
    "    top_k_weights = torch.zeros((k,))\n",
    "    for i in range(k):\n",
    "        top_k_weights[i] = dist_list[i][0]\n",
    "\n",
    "    top_k_weights = softmax(-1*top_k_weights)\n",
    "    for i in range(k):\n",
    "        action = torch.add(top_k_weights[i]*dist_list[i][1], action)\n",
    "\n",
    "    return(action)\n",
    "\n",
    "def extract_image(full_path):\n",
    "    parts = full_path.split('/')\n",
    "    return '/'.join(parts[-2:])"
   ]
  },
  {
   "cell_type": "code",
   "execution_count": 52,
   "metadata": {},
   "outputs": [
    {
     "name": "stderr",
     "output_type": "stream",
     "text": [
      "/home/aesee/anaconda3/envs/IntroDL/lib/python3.11/site-packages/torchvision/models/_utils.py:208: UserWarning: The parameter 'pretrained' is deprecated since 0.13 and may be removed in the future, please use 'weights' instead.\n",
      "  warnings.warn(\n",
      "/home/aesee/anaconda3/envs/IntroDL/lib/python3.11/site-packages/torchvision/models/_utils.py:223: UserWarning: Arguments other than a weight enum or `None` for 'weights' are deprecated since 0.13 and may be removed in the future. The current behavior is equivalent to passing `weights=ResNet50_Weights.IMAGENET1K_V1`. You can also use `weights=ResNet50_Weights.DEFAULT` to get the most up-to-date weights.\n",
      "  warnings.warn(msg)\n"
     ]
    },
    {
     "name": "stdout",
     "output_type": "stream",
     "text": [
      "hi\n"
     ]
    },
    {
     "name": "stderr",
     "output_type": "stream",
     "text": [
      "  0%|          | 0/48 [00:00<?, ?it/s]/home/aesee/anaconda3/envs/IntroDL/lib/python3.11/site-packages/torchvision/transforms/functional.py:1603: UserWarning: The default value of the antialias parameter of all the resizing transforms (Resize(), RandomResizedCrop(), etc.) will change from None to True in v0.17, in order to be consistent across the PIL and Tensor backends. To suppress this warning, directly pass antialias=True (recommended, future default), antialias=None (current default, which means False for Tensors and True for PIL), or antialias=False (only works on Tensors - PIL will still use antialiasing). This also applies if you are using the inference transforms from the models weights: update the call to weights.transforms(antialias=True).\n",
      "  warnings.warn(\n",
      "100%|██████████| 48/48 [01:28<00:00,  1.84s/it]\n",
      "100%|██████████| 12/12 [00:23<00:00,  1.95s/it]\n"
     ]
    }
   ],
   "source": [
    "params = {}\n",
    "params['root_dir'] = '/home/aesee/CMU/MAIL_Lab/VINN/VINN-Sculpt/VINN-ACT/'  #'/home/arvindcar/MAIL_Lab/VINN/VINN-Sculpt/VINN-ACT/' # This was changed\n",
    "params['img_size'] = 624\n",
    "params['layer'] = 'avgpool'\n",
    "params['model'] = 'ImageNet'\n",
    "params['representation_model_path'] = 'chkpts/BYOL_100_X_pretrained_1.pt' # This was changed\n",
    "params['eval'] = 0\n",
    "params['representation'] = 0\n",
    "params['dataset'] = 'X_Datasets'\n",
    "params['architecture'] = 'ResNet'\n",
    "params['t'] = 0\n",
    " \n",
    "\n",
    "sys.path.append(params['root_dir'] + 'representation_models')\n",
    "sys.path.append(params['root_dir'] + 'dataloaders')\n",
    "print\n",
    "from run_model import Encoder\n",
    "from XDataset import XDataset\n",
    "\n",
    "encoder = Encoder(params)\n",
    "params['folder'] =  '/home/aesee/CMU/MAIL_Lab/VINN/VINN-Sculpt/VINN-ACT/representation_data/X_all/train_all' # '/home/arvindcar/MAIL_Lab/VINN/VINN-Sculpt/VINN-ACT/representation_data/X_all/train_all'\n",
    "train_dataset = XDataset(params, encoder)\n",
    "params['folder'] =  '/home/aesee/CMU/MAIL_Lab/VINN/VINN-Sculpt/VINN-ACT/representation_data/X_all/val_all'# '/home/arvindcar/MAIL_Lab/VINN/VINN-Sculpt/VINN-ACT/representation_data/X_all/val_all_trial'\n",
    "val_dataset = XDataset(params, encoder)"
   ]
  },
  {
   "cell_type": "code",
   "execution_count": 54,
   "metadata": {},
   "outputs": [],
   "source": [
    "mseLoss = torch.nn.MSELoss()\n",
    "ceLoss = torch.nn.CrossEntropyLoss()\n",
    "\n",
    "softmax = torch.nn.Softmax(dim=0)"
   ]
  },
  {
   "cell_type": "code",
   "execution_count": 63,
   "metadata": {},
   "outputs": [],
   "source": [
    "def calculate_nearest_neighbors(query_set, dataset, k):\n",
    "    loss = [0 for i in range(k)]\n",
    "    selected_paths = []\n",
    "    for query_index in tqdm(range(len(query_set))):\n",
    "        dist_list = []\n",
    "        query_embedding, query_translation, query_rotation, query_gripper, query_path = query_set[query_index]\n",
    "\n",
    "        for dataset_index in range(len(dataset)):\n",
    "\n",
    "            dataset_embedding, dataset_translation, dataset_rotation, dataset_gripper, dataset_path = dataset[dataset_index]\n",
    "            distance = dist_metric(query_embedding, dataset_embedding)\n",
    "            dist_list.append((distance, dataset_translation, dataset_path))\n",
    "\n",
    "        dist_list = sorted(dist_list, key = lambda tup: tup[0])\n",
    "        \n",
    "        for i in range(k):\n",
    "            pred_action = calculate_action(dist_list, i+1)\n",
    "            loss[i] += mseLoss(pred_action,query_translation).item()\n",
    "            if i == 10:\n",
    "                selected_paths.append((extract_image(query_path), [extract_image(dist_list[j][2]) for j in range(i+1)]))\n",
    "\n",
    "        \n",
    "\n",
    "    return(loss, selected_paths)"
   ]
  },
  {
   "cell_type": "code",
   "execution_count": 64,
   "metadata": {},
   "outputs": [
    {
     "name": "stderr",
     "output_type": "stream",
     "text": [
      "100%|██████████| 80/80 [00:00<00:00, 117.74it/s]\n"
     ]
    }
   ],
   "source": [
    "val_loss, paths = calculate_nearest_neighbors(val_dataset, train_dataset, 50)"
   ]
  },
  {
   "cell_type": "code",
   "execution_count": 66,
   "metadata": {
    "scrolled": true
   },
   "outputs": [
    {
     "data": {
      "text/plain": [
       "[<matplotlib.lines.Line2D at 0x7fe8ccb019d0>]"
      ]
     },
     "execution_count": 66,
     "metadata": {},
     "output_type": "execute_result"
    },
    {
     "data": {
      "image/png": "[encoded data removed]",
      "text/plain": [
       "<Figure size 640x480 with 1 Axes>"
      ]
     },
     "metadata": {},
     "output_type": "display_data"
    }
   ],
   "source": [
    "val_loss_scaled = [i / len(val_dataset) for i in val_loss]\n",
    "x_axis = [i for i in range(len(val_loss))]\n",
    "plt.plot(x_axis, val_loss_scaled)"
   ]
  },
  {
   "cell_type": "code",
   "execution_count": 65,
   "metadata": {},
   "outputs": [
    {
     "name": "stdout",
     "output_type": "stream",
     "text": [
      "('run_27/0006.jpg', ['run_26/0005.jpg', 'run_21/0003.jpg', 'run_26/0007.jpg', 'run_28/0006.jpg', 'run_26/0006.jpg', 'run_29/0006.jpg', 'run_25/0005.jpg', 'run_28/0003.jpg', 'run_28/0007.jpg', 'run_29/0005.jpg', 'run_21/0005.jpg'])\n"
     ]
    }
   ],
   "source": [
    "print(paths[0])"
   ]
  },
  {
   "cell_type": "code",
   "execution_count": 8,
   "metadata": {},
   "outputs": [
    {
     "data": {
      "text/plain": [
       "11"
      ]
     },
     "execution_count": 8,
     "metadata": {},
     "output_type": "execute_result"
    }
   ],
   "source": [
    "import numpy as np\n",
    "np.argmin(np.array(val_loss_scaled))"
   ]
  },
  {
   "cell_type": "code",
   "execution_count": 9,
   "metadata": {},
   "outputs": [
    {
     "ename": "NameError",
     "evalue": "name 'test_dataset' is not defined",
     "output_type": "error",
     "traceback": [
      "\u001b[0;31m---------------------------------------------------------------------------\u001b[0m",
      "\u001b[0;31mNameError\u001b[0m                                 Traceback (most recent call last)",
      "\u001b[0;32m/tmp/ipykernel_16087/2870669592.py\u001b[0m in \u001b[0;36m<module>\u001b[0;34m\u001b[0m\n\u001b[0;32m----> 1\u001b[0;31m \u001b[0mtest_loss\u001b[0m \u001b[0;34m=\u001b[0m \u001b[0mcalculate_nearest_neighbors\u001b[0m\u001b[0;34m(\u001b[0m\u001b[0mtest_dataset\u001b[0m\u001b[0;34m,\u001b[0m \u001b[0mtrain_dataset\u001b[0m\u001b[0;34m,\u001b[0m \u001b[0;36m50\u001b[0m\u001b[0;34m)\u001b[0m\u001b[0;34m\u001b[0m\u001b[0;34m\u001b[0m\u001b[0m\n\u001b[0m",
      "\u001b[0;31mNameError\u001b[0m: name 'test_dataset' is not defined"
     ]
    }
   ],
   "source": [
    "# test_loss = calculate_nearest_neighbors(test_dataset, train_dataset, 50)"
   ]
  },
  {
   "cell_type": "code",
   "execution_count": null,
   "metadata": {},
   "outputs": [],
   "source": [
    "test_loss_scaled = [i / len(test_dataset) for i in test_loss]\n",
    "x_axis = [i for i in range(len(test_loss))]\n",
    "plt.plot(x_axis, test_loss_scaled)"
   ]
  },
  {
   "cell_type": "code",
   "execution_count": null,
   "metadata": {},
   "outputs": [
    {
     "data": {
      "text/plain": [
       "0.19428218364976935"
      ]
     },
     "execution_count": 23,
     "metadata": {},
     "output_type": "execute_result"
    }
   ],
   "source": [
    "min(test_loss_scaled)"
   ]
  }
 ],
 "metadata": {
  "kernelspec": {
   "display_name": "Python 3",
   "language": "python",
   "name": "python3"
  },
  "language_info": {
   "codemirror_mode": {
    "name": "ipython",
    "version": 3
   },
   "file_extension": ".py",
   "mimetype": "text/x-python",
   "name": "python",
   "nbconvert_exporter": "python",
   "pygments_lexer": "ipython3",
   "version": "3.11.5"
  }
 },
 "nbformat": 4,
 "nbformat_minor": 4
}
