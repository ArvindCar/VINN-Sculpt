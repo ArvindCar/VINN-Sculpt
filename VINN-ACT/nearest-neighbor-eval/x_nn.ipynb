{
 "cells": [
  {
   "cell_type": "code",
   "execution_count": 1,
   "metadata": {},
   "outputs": [],
   "source": [
    "import torch\n",
    "\n",
    "import sys\n",
    "import random\n",
    "from tqdm import tqdm\n",
    "import matplotlib.pyplot as plt"
   ]
  },
  {
   "cell_type": "code",
   "execution_count": 2,
   "metadata": {},
   "outputs": [],
   "source": [
    "def dist_metric(x,y):\n",
    "    return(torch.norm(x-y).item())\n",
    "\n",
    "def calculate_action(dist_list,k):\n",
    "    action = torch.tensor([0.0,0.0,0.0])\n",
    "    top_k_weights = torch.zeros((k,))\n",
    "    for i in range(k):\n",
    "        top_k_weights[i] = dist_list[i][0]\n",
    "\n",
    "    top_k_weights = softmax(-1*top_k_weights)\n",
    "    for i in range(k):\n",
    "        action = torch.add(top_k_weights[i]*dist_list[i][1], action)\n",
    "\n",
    "    return(action)"
   ]
  },
  {
   "cell_type": "code",
   "execution_count": 24,
   "metadata": {},
   "outputs": [
    {
     "name": "stderr",
     "output_type": "stream",
     "text": [
      "/home/arvindcar/anaconda3/envs/Sculpt-VINN/lib/python3.7/site-packages/torchvision/models/_utils.py:209: UserWarning: The parameter 'pretrained' is deprecated since 0.13 and may be removed in the future, please use 'weights' instead.\n",
      "  f\"The parameter '{pretrained_param}' is deprecated since 0.13 and may be removed in the future, \"\n",
      "/home/arvindcar/anaconda3/envs/Sculpt-VINN/lib/python3.7/site-packages/torchvision/models/_utils.py:223: UserWarning: Arguments other than a weight enum or `None` for 'weights' are deprecated since 0.13 and may be removed in the future. The current behavior is equivalent to passing `weights=ResNet50_Weights.IMAGENET1K_V1`. You can also use `weights=ResNet50_Weights.DEFAULT` to get the most up-to-date weights.\n",
      "  warnings.warn(msg)\n"
     ]
    },
    {
     "name": "stdout",
     "output_type": "stream",
     "text": [
      "hi\n"
     ]
    },
    {
     "name": "stderr",
     "output_type": "stream",
     "text": [
      "100%|██████████| 48/48 [01:03<00:00,  1.32s/it]\n",
      "100%|██████████| 10/10 [00:12<00:00,  1.29s/it]\n"
     ]
    }
   ],
   "source": [
    "params = {}\n",
    "params['root_dir'] = '/home/arvindcar/MAIL_Lab/VINN/VINN-Sculpt/VINN-ACT/' # This was changed\n",
    "params['img_size'] = 624\n",
    "params['layer'] = 'avgpool'\n",
    "params['model'] = 'ImageNet'\n",
    "params['representation_model_path'] = 'chkpts/BYOL_100_X_pretrained_1.pt' # This was changed\n",
    "params['eval'] = 0\n",
    "params['representation'] = 0\n",
    "params['dataset'] = 'X_Datasets'\n",
    "params['architecture'] = 'ResNet'\n",
    "params['t'] = 0\n",
    " \n",
    "\n",
    "sys.path.append(params['root_dir'] + 'representation_models')\n",
    "sys.path.append(params['root_dir'] + 'dataloaders')\n",
    "from run_model import Encoder\n",
    "from XDataset import XDataset\n",
    "\n",
    "encoder = Encoder(params)\n",
    "params['folder'] = '/home/arvindcar/MAIL_Lab/VINN/VINN-Sculpt/VINN-ACT/representation_data/X_all/train_all'\n",
    "train_dataset = XDataset(params, encoder)\n",
    "params['folder'] =  '/home/arvindcar/MAIL_Lab/VINN/VINN-Sculpt/VINN-ACT/representation_data/X_all/val_all_trial'\n",
    "val_dataset = XDataset(params, encoder)"
   ]
  },
  {
   "cell_type": "code",
   "execution_count": 4,
   "metadata": {},
   "outputs": [],
   "source": [
    "mseLoss = torch.nn.MSELoss()\n",
    "ceLoss = torch.nn.CrossEntropyLoss()\n",
    "\n",
    "softmax = torch.nn.Softmax(dim=0)"
   ]
  },
  {
   "cell_type": "code",
   "execution_count": 5,
   "metadata": {},
   "outputs": [],
   "source": [
    "def calculate_nearest_neighbors(query_set, dataset, k):\n",
    "    loss = [0 for i in range(k)]\n",
    "\n",
    "    for query_index in tqdm(range(len(query_set))):\n",
    "        dist_list = []\n",
    "        query_embedding, query_translation, query_rotation, query_gripper, query_path = query_set[query_index]\n",
    "\n",
    "        for dataset_index in range(len(dataset)):\n",
    "\n",
    "            dataset_embedding, dataset_translation, dataset_rotation, dataset_gripper, dataset_path = dataset[dataset_index]\n",
    "            distance = dist_metric(query_embedding, dataset_embedding)\n",
    "            dist_list.append((distance, dataset_translation, dataset_path))\n",
    "\n",
    "        dist_list = sorted(dist_list, key = lambda tup: tup[0])\n",
    "        \n",
    "        for i in range(k):\n",
    "            pred_action = calculate_action(dist_list, i+1)\n",
    "            loss[i] += mseLoss(pred_action,query_translation).item()\n",
    "    return(loss)"
   ]
  },
  {
   "cell_type": "code",
   "execution_count": 20,
   "metadata": {},
   "outputs": [
    {
     "name": "stderr",
     "output_type": "stream",
     "text": [
      "100%|██████████| 80/80 [00:00<00:00, 125.40it/s]\n"
     ]
    }
   ],
   "source": [
    "val_loss = calculate_nearest_neighbors(val_dataset, train_dataset, 50)"
   ]
  },
  {
   "cell_type": "code",
   "execution_count": 21,
   "metadata": {
    "scrolled": true
   },
   "outputs": [
    {
     "data": {
      "text/plain": [
       "[<matplotlib.lines.Line2D at 0x7f81f6c192d0>]"
      ]
     },
     "execution_count": 21,
     "metadata": {},
     "output_type": "execute_result"
    },
    {
     "data": {
      "image/png": "[encoded data removed]",
      "text/plain": [
       "<Figure size 640x480 with 1 Axes>"
      ]
     },
     "metadata": {},
     "output_type": "display_data"
    }
   ],
   "source": [
    "val_loss_scaled = [i / len(val_dataset) for i in val_loss]\n",
    "x_axis = [i for i in range(len(val_loss))]\n",
    "plt.plot(x_axis, val_loss_scaled)"
   ]
  },
  {
   "cell_type": "code",
   "execution_count": 23,
   "metadata": {},
   "outputs": [
    {
     "data": {
      "text/plain": [
       "9"
      ]
     },
     "execution_count": 23,
     "metadata": {},
     "output_type": "execute_result"
    }
   ],
   "source": [
    "import numpy as np\n",
    "np.argmin(np.array(val_loss_scaled))"
   ]
  },
  {
   "cell_type": "code",
   "execution_count": 9,
   "metadata": {},
   "outputs": [
    {
     "ename": "NameError",
     "evalue": "name 'test_dataset' is not defined",
     "output_type": "error",
     "traceback": [
      "\u001b[0;31m---------------------------------------------------------------------------\u001b[0m",
      "\u001b[0;31mNameError\u001b[0m                                 Traceback (most recent call last)",
      "\u001b[0;32m/tmp/ipykernel_16087/2870669592.py\u001b[0m in \u001b[0;36m<module>\u001b[0;34m\u001b[0m\n\u001b[0;32m----> 1\u001b[0;31m \u001b[0mtest_loss\u001b[0m \u001b[0;34m=\u001b[0m \u001b[0mcalculate_nearest_neighbors\u001b[0m\u001b[0;34m(\u001b[0m\u001b[0mtest_dataset\u001b[0m\u001b[0;34m,\u001b[0m \u001b[0mtrain_dataset\u001b[0m\u001b[0;34m,\u001b[0m \u001b[0;36m50\u001b[0m\u001b[0;34m)\u001b[0m\u001b[0;34m\u001b[0m\u001b[0;34m\u001b[0m\u001b[0m\n\u001b[0m",
      "\u001b[0;31mNameError\u001b[0m: name 'test_dataset' is not defined"
     ]
    }
   ],
   "source": [
    "test_loss = calculate_nearest_neighbors(test_dataset, train_dataset, 50)"
   ]
  },
  {
   "cell_type": "code",
   "execution_count": null,
   "metadata": {},
   "outputs": [],
   "source": [
    "test_loss_scaled = [i / len(test_dataset) for i in test_loss]\n",
    "x_axis = [i for i in range(len(test_loss))]\n",
    "plt.plot(x_axis, test_loss_scaled)"
   ]
  },
  {
   "cell_type": "code",
   "execution_count": null,
   "metadata": {},
   "outputs": [
    {
     "data": {
      "text/plain": [
       "0.19428218364976935"
      ]
     },
     "execution_count": 23,
     "metadata": {},
     "output_type": "execute_result"
    }
   ],
   "source": [
    "min(test_loss_scaled)"
   ]
  }
 ],
 "metadata": {
  "kernelspec": {
   "display_name": "Python 3",
   "language": "python",
   "name": "python3"
  },
  "language_info": {
   "codemirror_mode": {
    "name": "ipython",
    "version": 3
   },
   "file_extension": ".py",
   "mimetype": "text/x-python",
   "name": "python",
   "nbconvert_exporter": "python",
   "pygments_lexer": "ipython3",
   "version": "3.7.16"
  }
 },
 "nbformat": 4,
 "nbformat_minor": 4
}
