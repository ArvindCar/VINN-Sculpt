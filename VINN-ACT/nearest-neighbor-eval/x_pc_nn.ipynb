{
 "cells": [
  {
   "cell_type": "code",
   "execution_count": 1,
   "metadata": {},
   "outputs": [],
   "source": [
    "import torch\n",
    "\n",
    "import sys\n",
    "import random\n",
    "from tqdm import tqdm\n",
    "import matplotlib.pyplot as plt"
   ]
  },
  {
   "cell_type": "code",
   "execution_count": 2,
   "metadata": {},
   "outputs": [],
   "source": [
    "def dist_metric(x,y):\n",
    "    return(torch.norm(x-y).item())\n",
    "\n",
    "def calculate_action(dist_list,k):\n",
    "    action = torch.tensor([0.0,0.0,0.0])\n",
    "    top_k_weights = torch.zeros((k,))\n",
    "    for i in range(k):\n",
    "        top_k_weights[i] = dist_list[i][0]\n",
    "\n",
    "    top_k_weights = softmax(-1*top_k_weights)\n",
    "    for i in range(k):\n",
    "        action = torch.add(top_k_weights[i]*dist_list[i][1], action)\n",
    "\n",
    "    return(action)\n",
    "\n",
    "def extract_image(full_path):\n",
    "    parts = full_path.split('/')\n",
    "    return '/'.join(parts[-2:])"
   ]
  },
  {
   "cell_type": "code",
   "execution_count": 3,
   "metadata": {},
   "outputs": [
    {
     "name": "stdout",
     "output_type": "stream",
     "text": [
      "\n",
      "\n",
      " config:  {'NAME': 'PointTransformer', 'trans_dim': 384, 'depth': 12, 'drop_path_rate': 0.1, 'cls_dim': 40, 'num_heads': 6, 'group_size': 32, 'num_group': 64, 'encoder_dims': 256}\n"
     ]
    },
    {
     "name": "stderr",
     "output_type": "stream",
     "text": [
      "2024-02-24 14:39:17,241 - Transformer - INFO - missing_keys\n",
      "2024-02-24 14:39:17,242 - Transformer - INFO - Some model parameters or buffers are not found in the checkpoint:\n",
      "  cls_head_finetune.0.{weight, bias}\n",
      "  cls_head_finetune.3.{weight, bias}\n",
      "2024-02-24 14:39:17,242 - Transformer - INFO - unexpected_keys\n",
      "2024-02-24 14:39:17,243 - Transformer - INFO - The checkpoint state_dict contains keys that are not used by the model:\n",
      "  mask_token\n",
      "  lm_head.{weight, bias}\n",
      "2024-02-24 14:39:17,243 - Transformer - INFO - [Transformer] Successful Loading the ckpt from pointBERT/point-BERT-weights/Point-BERT.pth\n",
      "100%|██████████| 48/48 [00:03<00:00, 13.57it/s]\n",
      "100%|██████████| 12/12 [00:00<00:00, 16.62it/s]\n"
     ]
    }
   ],
   "source": [
    "params = {}\n",
    "params['root_dir'] = '/home/arvind/CMU/MAIL/VINN/VINN-Main/VINN-Sculpt/VINN-ACT/'  #'/home/arvindcar/MAIL_Lab/VINN/VINN-Sculpt/VINN-ACT/' # This was changed\n",
    "params['img_size'] = 2048\n",
    "params['layer'] = ''\n",
    "params['model'] = 'PointBERT'\n",
    "params['representation_model_path'] = 'chkpts/BYOL_PC_100_X_batch_60.pt' # This was changed\n",
    "params['eval'] = 0\n",
    "params['representation'] = 0\n",
    "params['dataset'] = 'X_Datasets'\n",
    "params['architecture'] = ''\n",
    "params['t'] = 0\n",
    " \n",
    "\n",
    "sys.path.append(params['root_dir'] + 'representation_models')\n",
    "sys.path.append(params['root_dir'] + 'dataloaders')\n",
    "print\n",
    "from run_model import Encoder\n",
    "from XDataset_PC import XDataset_PC\n",
    "\n",
    "encoder = Encoder(params)\n",
    "params['folder'] =  '/home/arvind/CMU/MAIL/VINN/VINN-Main/VINN-Sculpt/VINN-ACT/representation_data/X_all/train_all' # '/home/arvindcar/MAIL_Lab/VINN/VINN-Sculpt/VINN-ACT/representation_data/X_all/train_all'\n",
    "train_dataset = XDataset_PC(params, encoder)\n",
    "params['folder'] =  '/home/arvind/CMU/MAIL/VINN/VINN-Main/VINN-Sculpt/VINN-ACT/representation_data/X_all/val_all'# '/home/arvindcar/MAIL_Lab/VINN/VINN-Sculpt/VINN-ACT/representation_data/X_all/val_all_trial'\n",
    "val_dataset = XDataset_PC(params, encoder)"
   ]
  },
  {
   "cell_type": "code",
   "execution_count": 4,
   "metadata": {},
   "outputs": [
    {
     "name": "stdout",
     "output_type": "stream",
     "text": [
      "80\n"
     ]
    }
   ],
   "source": [
    "mseLoss = torch.nn.MSELoss()\n",
    "ceLoss = torch.nn.CrossEntropyLoss()\n",
    "\n",
    "softmax = torch.nn.Softmax(dim=0)\n",
    "print(len(val_dataset))"
   ]
  },
  {
   "cell_type": "code",
   "execution_count": 5,
   "metadata": {},
   "outputs": [],
   "source": [
    "def calculate_nearest_neighbors(query_set, dataset, k):\n",
    "    loss = [0 for i in range(k)]\n",
    "    selected_paths = []\n",
    "    for query_index in tqdm(range(len(query_set))):\n",
    "        dist_list = []\n",
    "        query_embedding, query_translation, query_rotation, query_gripper, query_path = query_set[query_index]\n",
    "\n",
    "        for dataset_index in range(len(dataset)):\n",
    "\n",
    "            dataset_embedding, dataset_translation, dataset_rotation, dataset_gripper, dataset_path = dataset[dataset_index]\n",
    "            distance = dist_metric(query_embedding, dataset_embedding)\n",
    "            dist_list.append((distance, dataset_translation, dataset_path))\n",
    "\n",
    "        dist_list = sorted(dist_list, key = lambda tup: tup[0])\n",
    "        \n",
    "        for i in range(k):\n",
    "            pred_action = calculate_action(dist_list, i+1)\n",
    "            loss[i] += mseLoss(pred_action,query_translation).item()\n",
    "            if i == 10:\n",
    "                selected_paths.append((extract_image(query_path), [extract_image(dist_list[j][2]) for j in range(i+1)]))\n",
    "\n",
    "        \n",
    "\n",
    "    return(loss, selected_paths)"
   ]
  },
  {
   "cell_type": "code",
   "execution_count": 6,
   "metadata": {},
   "outputs": [
    {
     "name": "stderr",
     "output_type": "stream",
     "text": [
      "100%|██████████| 80/80 [00:01<00:00, 45.64it/s]\n"
     ]
    }
   ],
   "source": [
    "val_loss, paths = calculate_nearest_neighbors(val_dataset, train_dataset, 50)"
   ]
  },
  {
   "cell_type": "code",
   "execution_count": 7,
   "metadata": {
    "scrolled": true
   },
   "outputs": [
    {
     "data": {
      "text/plain": [
       "[<matplotlib.lines.Line2D at 0x7f3f80942a50>]"
      ]
     },
     "execution_count": 7,
     "metadata": {},
     "output_type": "execute_result"
    },
    {
     "data": {
      "image/png": "[encoded data removed]",
      "text/plain": [
       "<Figure size 640x480 with 1 Axes>"
      ]
     },
     "metadata": {},
     "output_type": "display_data"
    }
   ],
   "source": [
    "val_loss_scaled = [i / len(val_dataset) for i in val_loss]\n",
    "x_axis = [i for i in range(len(val_loss))]\n",
    "plt.plot(x_axis, val_loss_scaled)"
   ]
  },
  {
   "cell_type": "code",
   "execution_count": 13,
   "metadata": {},
   "outputs": [
    {
     "name": "stdout",
     "output_type": "stream",
     "text": [
      "('run_pc_55/0000.npy', ['run_pc_19/0003.npy', 'run_pc_21/0003.npy', 'run_pc_49/0007.npy', 'run_pc_59/0001.npy', 'run_pc_48/0005.npy', 'run_pc_35/0007.npy', 'run_pc_28/0007.npy', 'run_pc_59/0003.npy', 'run_pc_15/0002.npy', 'run_pc_21/0001.npy', 'run_pc_10/0003.npy'])\n"
     ]
    }
   ],
   "source": [
    "print(paths[0])"
   ]
  },
  {
   "cell_type": "code",
   "execution_count": 12,
   "metadata": {},
   "outputs": [
    {
     "data": {
      "text/plain": [
       "35"
      ]
     },
     "execution_count": 12,
     "metadata": {},
     "output_type": "execute_result"
    }
   ],
   "source": [
    "import numpy as np\n",
    "np.argmin(np.array(val_loss_scaled))"
   ]
  },
  {
   "cell_type": "code",
   "execution_count": 9,
   "metadata": {},
   "outputs": [
    {
     "ename": "NameError",
     "evalue": "name 'test_dataset' is not defined",
     "output_type": "error",
     "traceback": [
      "\u001b[0;31m---------------------------------------------------------------------------\u001b[0m",
      "\u001b[0;31mNameError\u001b[0m                                 Traceback (most recent call last)",
      "\u001b[0;32m/tmp/ipykernel_16087/2870669592.py\u001b[0m in \u001b[0;36m<module>\u001b[0;34m\u001b[0m\n\u001b[0;32m----> 1\u001b[0;31m \u001b[0mtest_loss\u001b[0m \u001b[0;34m=\u001b[0m \u001b[0mcalculate_nearest_neighbors\u001b[0m\u001b[0;34m(\u001b[0m\u001b[0mtest_dataset\u001b[0m\u001b[0;34m,\u001b[0m \u001b[0mtrain_dataset\u001b[0m\u001b[0;34m,\u001b[0m \u001b[0;36m50\u001b[0m\u001b[0;34m)\u001b[0m\u001b[0;34m\u001b[0m\u001b[0;34m\u001b[0m\u001b[0m\n\u001b[0m",
      "\u001b[0;31mNameError\u001b[0m: name 'test_dataset' is not defined"
     ]
    }
   ],
   "source": [
    "# test_loss = calculate_nearest_neighbors(test_dataset, train_dataset, 50)"
   ]
  },
  {
   "cell_type": "code",
   "execution_count": null,
   "metadata": {},
   "outputs": [],
   "source": [
    "test_loss_scaled = [i / len(test_dataset) for i in test_loss]\n",
    "x_axis = [i for i in range(len(test_loss))]\n",
    "plt.plot(x_axis, test_loss_scaled)"
   ]
  },
  {
   "cell_type": "code",
   "execution_count": null,
   "metadata": {},
   "outputs": [
    {
     "data": {
      "text/plain": [
       "0.19428218364976935"
      ]
     },
     "execution_count": 23,
     "metadata": {},
     "output_type": "execute_result"
    }
   ],
   "source": [
    "min(test_loss_scaled)"
   ]
  }
 ],
 "metadata": {
  "kernelspec": {
   "display_name": "Python 3",
   "language": "python",
   "name": "python3"
  },
  "language_info": {
   "codemirror_mode": {
    "name": "ipython",
    "version": 3
   },
   "file_extension": ".py",
   "mimetype": "text/x-python",
   "name": "python",
   "nbconvert_exporter": "python",
   "pygments_lexer": "ipython3",
   "version": "3.7.16"
  }
 },
 "nbformat": 4,
 "nbformat_minor": 4
}
