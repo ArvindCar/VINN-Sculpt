{
 "cells": [
  {
   "cell_type": "code",
   "execution_count": 1,
   "metadata": {},
   "outputs": [],
   "source": [
    "import torch\n",
    "\n",
    "import sys\n",
    "import random\n",
    "from tqdm import tqdm\n",
    "import matplotlib.pyplot as plt"
   ]
  },
  {
   "cell_type": "code",
   "execution_count": 2,
   "metadata": {},
   "outputs": [],
   "source": [
    "def dist_metric(x,y):\n",
    "    return(torch.norm(x-y).item())\n",
    "\n",
    "def calculate_action(dist_list,k):\n",
    "    action = torch.tensor([0.0,0.0,0.0])\n",
    "    top_k_weights = torch.zeros((k,))\n",
    "    for i in range(k):\n",
    "        top_k_weights[i] = dist_list[i][0]\n",
    "\n",
    "    top_k_weights = softmax(-1*top_k_weights)\n",
    "    for i in range(k):\n",
    "        action = torch.add(top_k_weights[i]*dist_list[i][1], action)\n",
    "\n",
    "    return(action)\n",
    "\n",
    "def extract_image(full_path):\n",
    "    parts = full_path.split('/')\n",
    "    return '/'.join(parts[-2:])"
   ]
  },
  {
   "cell_type": "code",
   "execution_count": 11,
   "metadata": {},
   "outputs": [
    {
     "name": "stdout",
     "output_type": "stream",
     "text": [
      "\n",
      "\n",
      " config:  {'NAME': 'PointTransformer', 'trans_dim': 384, 'depth': 12, 'drop_path_rate': 0.1, 'cls_dim': 40, 'num_heads': 6, 'group_size': 32, 'num_group': 64, 'encoder_dims': 256}\n"
     ]
    },
    {
     "name": "stderr",
     "output_type": "stream",
     "text": [
      "100%|██████████| 96/96 [00:16<00:00,  5.86it/s]\n",
      "100%|██████████| 23/23 [00:03<00:00,  6.42it/s]\n"
     ]
    }
   ],
   "source": [
    "params = {}\n",
    "params['root_dir'] = '/home/arvind/CMU/MAIL/VINN/VINN-Main/VINN-Sculpt/VINN-ACT/'  #'/home/arvindcar/MAIL_Lab/VINN/VINN-Sculpt/VINN-ACT/' # This was changed\n",
    "params['img_size'] = 2048\n",
    "params['layer'] = ''\n",
    "params['model'] = 'PointBERT'\n",
    "params['representation_model_path'] = 'chkpts/BYOL_PC_100_Cone_batch_50.pt' # This was changed\n",
    "params['eval'] = 0\n",
    "params['representation'] = 0\n",
    "params['dataset'] = 'X_Datasets'\n",
    "params['architecture'] = ''\n",
    "params['t'] = 0\n",
    " \n",
    "\n",
    "sys.path.append(params['root_dir'] + 'representation_models')\n",
    "sys.path.append(params['root_dir'] + 'dataloaders')\n",
    "print\n",
    "from run_model import Encoder\n",
    "from XDataset_PC import XDataset_PC\n",
    "\n",
    "encoder = Encoder(params)\n",
    "params['folder'] =  '/home/arvind/CMU/MAIL/VINN/VINN-Main/VINN-Sculpt/VINN-ACT/representation_data/X_all/train_all' # '/home/arvindcar/MAIL_Lab/VINN/VINN-Sculpt/VINN-ACT/representation_data/X_all/train_all'\n",
    "train_dataset = XDataset_PC(params, encoder)\n",
    "params['folder'] =  '/home/arvind/CMU/MAIL/VINN/VINN-Main/VINN-Sculpt/VINN-ACT/representation_data/X_all/val_all'# '/home/arvindcar/MAIL_Lab/VINN/VINN-Sculpt/VINN-ACT/representation_data/X_all/val_all_trial'\n",
    "val_dataset = XDataset_PC(params, encoder)"
   ]
  },
  {
   "cell_type": "code",
   "execution_count": 12,
   "metadata": {},
   "outputs": [
    {
     "name": "stdout",
     "output_type": "stream",
     "text": [
      "195\n"
     ]
    }
   ],
   "source": [
    "mseLoss = torch.nn.MSELoss()\n",
    "ceLoss = torch.nn.CrossEntropyLoss()\n",
    "\n",
    "softmax = torch.nn.Softmax(dim=0)\n",
    "print(len(val_dataset))"
   ]
  },
  {
   "cell_type": "code",
   "execution_count": 18,
   "metadata": {},
   "outputs": [],
   "source": [
    "def calculate_nearest_neighbors(query_set, dataset, k):\n",
    "    loss = [0 for i in range(k)]\n",
    "    selected_paths = []\n",
    "    for query_index in tqdm(range(len(query_set))):\n",
    "        dist_list = []\n",
    "        query_embedding, query_translation, query_rotation, query_gripper, query_path = query_set[query_index]\n",
    "\n",
    "        for dataset_index in range(len(dataset)):\n",
    "\n",
    "            dataset_embedding, dataset_translation, dataset_rotation, dataset_gripper, dataset_path = dataset[dataset_index]\n",
    "            distance = dist_metric(query_embedding, dataset_embedding)\n",
    "            dist_list.append((distance, dataset_translation, dataset_path))\n",
    "\n",
    "        dist_list = sorted(dist_list, key = lambda tup: tup[0])\n",
    "        \n",
    "        for i in range(k):\n",
    "            pred_action = calculate_action(dist_list, i+1)\n",
    "            loss[i] += mseLoss(pred_action,query_translation).item()\n",
    "            if i == 9:\n",
    "                selected_paths.append((extract_image(query_path), [(extract_image(dist_list[j][2]), dist_list[j][0]) for j in range(i+1)]))\n",
    "\n",
    "        \n",
    "\n",
    "    return(loss, selected_paths)"
   ]
  },
  {
   "cell_type": "code",
   "execution_count": 19,
   "metadata": {},
   "outputs": [
    {
     "name": "stderr",
     "output_type": "stream",
     "text": [
      "100%|██████████| 195/195 [00:08<00:00, 22.94it/s]\n"
     ]
    }
   ],
   "source": [
    "val_loss, paths = calculate_nearest_neighbors(val_dataset, train_dataset, 50)"
   ]
  },
  {
   "cell_type": "code",
   "execution_count": 21,
   "metadata": {
    "scrolled": true
   },
   "outputs": [
    {
     "data": {
      "text/plain": [
       "[<matplotlib.lines.Line2D at 0x7f523a049a10>]"
      ]
     },
     "execution_count": 21,
     "metadata": {},
     "output_type": "execute_result"
    },
    {
     "data": {
      "image/png": "[encoded data removed]",
      "text/plain": [
       "<Figure size 640x480 with 1 Axes>"
      ]
     },
     "metadata": {},
     "output_type": "display_data"
    }
   ],
   "source": [
    "val_loss_scaled = [i / len(val_dataset) for i in val_loss]\n",
    "x_axis = [i for i in range(len(val_loss))]\n",
    "plt.plot(x_axis, val_loss_scaled)"
   ]
  },
  {
   "cell_type": "code",
   "execution_count": 22,
   "metadata": {},
   "outputs": [
    {
     "name": "stdout",
     "output_type": "stream",
     "text": [
      "('run_pc_59/0003.npy', [('run_pc_53/0004.npy', 8.9114351272583), ('run_pc_54/0004.npy', 10.771076202392578), ('run_pc_57/0005.npy', 11.004433631896973), ('run_pc_56/0007.npy', 11.935934066772461), ('run_pc_56/0004.npy', 14.088329315185547), ('run_pc_114/0004.npy', 14.168280601501465), ('run_pc_63/0004.npy', 15.285138130187988), ('run_pc_51/0004.npy', 15.296869277954102), ('run_pc_111/0005.npy', 15.554993629455566), ('run_pc_51/0010.npy', 15.56760025024414)])\n"
     ]
    }
   ],
   "source": [
    "print(paths[3])"
   ]
  },
  {
   "cell_type": "code",
   "execution_count": 16,
   "metadata": {},
   "outputs": [
    {
     "data": {
      "text/plain": [
       "49"
      ]
     },
     "execution_count": 16,
     "metadata": {},
     "output_type": "execute_result"
    }
   ],
   "source": [
    "import numpy as np\n",
    "np.argmin(np.array(val_loss_scaled))"
   ]
  },
  {
   "cell_type": "code",
   "execution_count": 9,
   "metadata": {},
   "outputs": [
    {
     "ename": "NameError",
     "evalue": "name 'test_dataset' is not defined",
     "output_type": "error",
     "traceback": [
      "\u001b[0;31m---------------------------------------------------------------------------\u001b[0m",
      "\u001b[0;31mNameError\u001b[0m                                 Traceback (most recent call last)",
      "\u001b[0;32m/tmp/ipykernel_16087/2870669592.py\u001b[0m in \u001b[0;36m<module>\u001b[0;34m\u001b[0m\n\u001b[0;32m----> 1\u001b[0;31m \u001b[0mtest_loss\u001b[0m \u001b[0;34m=\u001b[0m \u001b[0mcalculate_nearest_neighbors\u001b[0m\u001b[0;34m(\u001b[0m\u001b[0mtest_dataset\u001b[0m\u001b[0;34m,\u001b[0m \u001b[0mtrain_dataset\u001b[0m\u001b[0;34m,\u001b[0m \u001b[0;36m50\u001b[0m\u001b[0;34m)\u001b[0m\u001b[0;34m\u001b[0m\u001b[0;34m\u001b[0m\u001b[0m\n\u001b[0m",
      "\u001b[0;31mNameError\u001b[0m: name 'test_dataset' is not defined"
     ]
    }
   ],
   "source": [
    "# test_loss = calculate_nearest_neighbors(test_dataset, train_dataset, 50)"
   ]
  },
  {
   "cell_type": "code",
   "execution_count": null,
   "metadata": {},
   "outputs": [],
   "source": [
    "test_loss_scaled = [i / len(test_dataset) for i in test_loss]\n",
    "x_axis = [i for i in range(len(test_loss))]\n",
    "plt.plot(x_axis, test_loss_scaled)"
   ]
  },
  {
   "cell_type": "code",
   "execution_count": null,
   "metadata": {},
   "outputs": [
    {
     "data": {
      "text/plain": [
       "0.19428218364976935"
      ]
     },
     "execution_count": 23,
     "metadata": {},
     "output_type": "execute_result"
    }
   ],
   "source": [
    "min(test_loss_scaled)"
   ]
  }
 ],
 "metadata": {
  "kernelspec": {
   "display_name": "Python 3",
   "language": "python",
   "name": "python3"
  },
  "language_info": {
   "codemirror_mode": {
    "name": "ipython",
    "version": 3
   },
   "file_extension": ".py",
   "mimetype": "text/x-python",
   "name": "python",
   "nbconvert_exporter": "python",
   "pygments_lexer": "ipython3",
   "version": "3.7.16"
  }
 },
 "nbformat": 4,
 "nbformat_minor": 4
}
